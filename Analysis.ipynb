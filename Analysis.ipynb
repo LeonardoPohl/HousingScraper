{
 "cells": [
  {
   "cell_type": "markdown",
   "metadata": {},
   "source": [
    "# Scraping the bottom of the barrel"
   ]
  },
  {
   "cell_type": "code",
   "execution_count": null,
   "metadata": {},
   "outputs": [],
   "source": [
    "%load_ext autoreload\n",
    "%autoreload 2"
   ]
  },
  {
   "cell_type": "code",
   "execution_count": null,
   "metadata": {},
   "outputs": [],
   "source": [
    "import pandas as pd\n",
    "import time\n",
    "import urllib\n",
    "import re\n",
    "import os\n",
    "\n",
    "from providers import ParariusProvider\n",
    "from utils import Entry\n",
    "import webbrowser\n",
    "\n",
    "import pickle"
   ]
  },
  {
   "cell_type": "code",
   "execution_count": null,
   "metadata": {},
   "outputs": [],
   "source": [
    "urls = {\n",
    "  'Pararius Den Haag':  \"/apartments/den-haag/0-1750/2-bedrooms/since-3\",\n",
    "  'Pararius Leidschendam': \"/apartments/leidschendam/0-1750/2-bedrooms/since-3\",\n",
    "  'Pararius Rijswijk': \"/apartments/rijswijk/0-1750/2-bedrooms/since-3\",\n",
    "  'Pararius Leiden': \"/apartments/leiden/0-1750/2-bedrooms/since-3\",\n",
    "  'Pararius Wassenaar': \"/apartments/Wassenaar/0-1750/2-bedrooms/since-3\",\n",
    " # 'Pararius Utrecht': \"/apartments/utrecht/0-1750/2-bedrooms\",\n",
    "  'Pararius Leidedorp': \"/apartments/leiderdorp/0-1750/2-bedrooms/since-3\",\n",
    "  'Pararius Oegstgeest': \"/apartments/oegstgeest/0-1750/2-bedrooms/since-3\",\n",
    "  'Pararius Rijnsburg': \"/apartments/rijnsburg/0-1750/2-bedrooms/since-3\",\n",
    " # 'Pararius Delft': \"/apartments/delft/0-1750/2-bedrooms\",\n",
    "  'Pararius Voorburg': \"/apartments/voorburg/0-1750/2-bedrooms/since-3\"\n",
    "}\n",
    "\n",
    "# Too good to be true threshold (probably fake listing)\n",
    "tgtbt_area_price_threshold = 13\n",
    "# Tiny Room Threshold (the rooms are just too small)\n",
    "tiny_room_threshold = 15"
   ]
  },
  {
   "cell_type": "code",
   "execution_count": null,
   "metadata": {},
   "outputs": [],
   "source": [
    "pps = [ParariusProvider(urls[url], url.removeprefix('Pararius ')) for url in urls]\n",
    "       \n",
    "for pp in pps:\n",
    "  pp.query_entries()\n",
    "  pp.get_detailed_results()"
   ]
  },
  {
   "cell_type": "code",
   "execution_count": null,
   "metadata": {},
   "outputs": [],
   "source": [
    "entries = []\n",
    "for pp in pps:\n",
    "  entries += pp.entries\n",
    "\n",
    "len(entries)"
   ]
  },
  {
   "cell_type": "code",
   "execution_count": null,
   "metadata": {},
   "outputs": [],
   "source": [
    "import glob\n",
    "len(glob.glob1('.',\"*.html\"))"
   ]
  },
  {
   "cell_type": "code",
   "execution_count": null,
   "metadata": {},
   "outputs": [],
   "source": [
    "df = pd.DataFrame(entries)\n",
    "\n",
    "df['Price per area'] = df['price'] / df['area']\n",
    "df['Price per room'] = df['price'] / df['rooms']\n",
    "df['Area per room'] = df['area'] / df['rooms']\n",
    "\n",
    "initial_rows = df.shape[0]\n",
    "\n",
    "df.head()"
   ]
  },
  {
   "cell_type": "code",
   "execution_count": null,
   "metadata": {},
   "outputs": [],
   "source": [
    "#df = df[df['Price per area'] > tgtbt_area_price_threshold]\n",
    "df = df[df['Area per room'] > tiny_room_threshold]\n",
    "df = df[~df[\"description\"].str.contains('permit', case=False)]\n",
    "df = df[df[\"rented\"].isnull()]\n",
    "\n",
    "print(f\"{df.shape[0]}/{initial_rows} rows eligible\")"
   ]
  },
  {
   "cell_type": "code",
   "execution_count": null,
   "metadata": {},
   "outputs": [],
   "source": [
    "output_file_name = \"output.dat\"\n",
    "\n",
    "array = []\n",
    "\n",
    "if os.path.isfile(output_file_name):\n",
    "  with open(output_file_name, \"r\") as f:\n",
    "    array = f.read()[1:-1].replace(\"'\",\"\").strip().split(', ')\n",
    "    df2 = df[~df[\"link\"].isin(array)]\n",
    "    print(f\"{df2.shape[0]} new Properties!\")\n",
    "  \n",
    "with open(output_file_name, \"w\") as f:\n",
    "  array += list(df2[\"link\"])\n",
    "  f.write(str(array))\n",
    "\n",
    "df2.head()"
   ]
  },
  {
   "cell_type": "code",
   "execution_count": null,
   "metadata": {},
   "outputs": [],
   "source": []
  },
  {
   "cell_type": "code",
   "execution_count": null,
   "metadata": {},
   "outputs": [],
   "source": [
    "links = list(df2.link)\n",
    "for link in links:\n",
    "  webbrowser.open_new_tab(link)"
   ]
  },
  {
   "cell_type": "code",
   "execution_count": null,
   "metadata": {},
   "outputs": [],
   "source": [
    "import smtplib, ssl\n",
    "\n",
    "from email.mime.text import MIMEText\n",
    "from email.mime.application import MIMEApplication\n",
    "from email.mime.multipart import MIMEMultipart\n",
    "from email.message import EmailMessage"
   ]
  },
  {
   "cell_type": "code",
   "execution_count": null,
   "metadata": {},
   "outputs": [],
   "source": [
    "def prep_description(description):\n",
    "  description = description.removeprefix('Description\\n')\n",
    "\n",
    "def truncate(msg):\n",
    "  length = 125\n",
    "  if len(msg) < length:\n",
    "    return msg\n",
    "  new_msg = ''\n",
    "  for word in msg.split(' '):\n",
    "    if len(new_msg + word) > length:\n",
    "      new_msg += '...'\n",
    "      break\n",
    "\n",
    "    new_msg += word + ' '\n",
    "\n",
    "  return new_msg"
   ]
  },
  {
   "cell_type": "code",
   "execution_count": null,
   "metadata": {},
   "outputs": [],
   "source": [
    "list(df3['description'].apply(truncate))"
   ]
  },
  {
   "cell_type": "code",
   "execution_count": null,
   "metadata": {},
   "outputs": [],
   "source": [
    "if links:\n",
    "  port = 465  # For SSL\n",
    "  password = 'xrko gsmg xivc oshm'\n",
    "\n",
    "  # Create a secure SSL context\n",
    "  context = ssl.create_default_context()\n",
    "\n",
    "  with smtplib.SMTP_SSL(\"smtp.gmail.com\", port, context=context) as server:\n",
    "    server.login(\"xbipho.sender@gmail.com\", password)\n",
    "    msg = EmailMessage()\n",
    "\n",
    "    html_table_blue_light = \n",
    "\n",
    "    df3 = df.copy()\n",
    "    df3['link'] = df['link'].apply(lambda k: f'<a href=\"{k}\">{k}</a>')\n",
    "    df3['description'] = df['description'].apply(lambda k: k.replace('\\n', '<br>'))\n",
    "    df3['address'] = df['address'].apply(lambda k: Address.to_string(k).replace('\\n', '<br>'))\n",
    "    html = HTML_with_style(df3, '<style>table {{{}}}</style>'.format(my_style))\n",
    "\n",
    "    message = f'''\\n\\\n",
    "      Hi Maria and Leo,\n",
    "\n",
    "      I have found the following appartements:\n",
    "\n",
    "      {build_table(df3, 'blue_light')}\n",
    "      '''\n",
    "    msg.set_content(message)\n",
    "    msg['Subject'] = f'I found {len(links)} new Appartements!'\n",
    "    msg['From'] = 'xbipho.sender@gmail.com'\n",
    "    msg['To'] = 'pohly3@gmail.com'\n",
    "    \n",
    "    part1 = MIMEText(html, 'html')\n",
    "    msg.attach(part1)\n",
    "\n",
    "    server.send_message(msg)\n",
    "message"
   ]
  },
  {
   "cell_type": "code",
   "execution_count": null,
   "metadata": {},
   "outputs": [],
   "source": [
    "message"
   ]
  },
  {
   "cell_type": "code",
   "execution_count": null,
   "metadata": {},
   "outputs": [],
   "source": [
    "my_style = \"\"\"background-color: rgba(0, 0, 0, 0);\n",
    "border-bottom-color: rgb(0, 0, 0);\n",
    "border-bottom-style: none;\n",
    "border-bottom-width: 0px;\n",
    "border-collapse: collapse;\n",
    "border-image-outset: 0px;\n",
    "border-image-repeat: stretch;\n",
    "border-image-slice: 100%;\n",
    "border-image-source: none;\n",
    "border-image-width: 1;\n",
    "border-left-color: rgb(0, 0, 0);\n",
    "border-left-style: none;\n",
    "border-left-width: 0px;\n",
    "border-right-color: rgb(0, 0, 0);\n",
    "border-right-style: none;\n",
    "border-right-width: 0px;\n",
    "border-top-color: rgb(0, 0, 0);\n",
    "border-top-style: none;\n",
    "border-top-width: 0px;\n",
    "box-sizing: border-box;\n",
    "color: rgb(0, 0, 0);\n",
    "display: table;\n",
    "font-family: \"Helvetica Neue\", Helvetica, Arial, sans-serif;\n",
    "font-size: 12px;\n",
    "height: 1675px;\n",
    "line-height: 20px;\n",
    "margin-left: 0px;\n",
    "margin-right: 0px;\n",
    "margin-top: 12px;\n",
    "table-layout: fixed;\n",
    "text-size-adjust: 100%;\n",
    "width: 700px;\n",
    "-webkit-border-horizontal-spacing: 0px;\n",
    "-webkit-border-vertical-spacing: 0px;\n",
    "-webkit-tap-highlight-color: rgba(0, 0, 0, 0);\"\"\"\n"
   ]
  },
  {
   "cell_type": "code",
   "execution_count": null,
   "metadata": {},
   "outputs": [],
   "source": [
    "def HTML_with_style(df, style=None, random_id=None):\n",
    "    from IPython.display import HTML\n",
    "    import numpy as np\n",
    "    import re\n",
    "\n",
    "    df_html = df.to_html()\n",
    "\n",
    "    if random_id is None:\n",
    "        random_id = 'id%d' % np.random.choice(np.arange(1000000))\n",
    "\n",
    "    if style is None:\n",
    "        style = \"\"\"\n",
    "        <style>\n",
    "            table#{random_id} {{color: blue}}\n",
    "        </style>\n",
    "        \"\"\".format(random_id=random_id)\n",
    "    else:\n",
    "        new_style = []\n",
    "        s = re.sub(r'</?style>', '', style).strip()\n",
    "        for line in s.split('\\n'):\n",
    "                line = line.strip()\n",
    "                if not re.match(r'^table', line):\n",
    "                    line = re.sub(r'^', 'table ', line)\n",
    "                new_style.append(line)\n",
    "        new_style = ['<style>'] + new_style + ['</style>']\n",
    "\n",
    "        style = re.sub(r'table(#\\S+)?', 'table#%s' % random_id, '\\n'.join(new_style))\n",
    "\n",
    "    df_html = re.sub(r'<table', r'<table id=%s ' % random_id, df_html)\n",
    "\n",
    "    return HTML(f\"<html><head>{style}</head><body>{df_html}</body></html>\").data"
   ]
  },
  {
   "cell_type": "code",
   "execution_count": null,
   "metadata": {},
   "outputs": [],
   "source": [
    "from pretty_html_table import build_table"
   ]
  },
  {
   "cell_type": "code",
   "execution_count": null,
   "metadata": {},
   "outputs": [],
   "source": []
  },
  {
   "cell_type": "code",
   "execution_count": null,
   "metadata": {},
   "outputs": [],
   "source": [
    "html_table_blue_light"
   ]
  },
  {
   "cell_type": "code",
   "execution_count": null,
   "metadata": {},
   "outputs": [],
   "source": [
    "# df.to_html('html.html', \n",
    "#            formatters = {'link': lambda k: f'<a href=\"{k}\">{k}</a>',\n",
    "#                          'description': lambda k: k.replace('\\n', '<br>')}, \n",
    "#            escape=False,\n",
    "#            index=False)\n",
    "df3 = df.copy()\n",
    "df3['link'] = df['link'].apply(lambda k: f'<a href=\"{k}\">{k}</a>')\n",
    "df3['description'] = df['description'].apply(lambda k: k.replace('\\n', '<br>'))\n",
    "df3['address'] = df['address'].apply(lambda k: Address.to_string(k).replace('\\n', '<br>'))\n",
    "html = HTML_with_style(df3, '<style>table {{{}}}</style>'.format(my_style))"
   ]
  },
  {
   "cell_type": "code",
   "execution_count": null,
   "metadata": {},
   "outputs": [],
   "source": [
    "html"
   ]
  },
  {
   "cell_type": "markdown",
   "metadata": {},
   "source": []
  }
 ],
 "metadata": {
  "kernelspec": {
   "display_name": ".env",
   "language": "python",
   "name": "python3"
  },
  "language_info": {
   "codemirror_mode": {
    "name": "ipython",
    "version": 3
   },
   "file_extension": ".py",
   "mimetype": "text/x-python",
   "name": "python",
   "nbconvert_exporter": "python",
   "pygments_lexer": "ipython3",
   "version": "3.10.11"
  }
 },
 "nbformat": 4,
 "nbformat_minor": 2
}
