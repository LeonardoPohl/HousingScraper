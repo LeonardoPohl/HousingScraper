{
 "cells": [
  {
   "cell_type": "markdown",
   "metadata": {},
   "source": [
    "# Scraping the bottom of the barrel"
   ]
  },
  {
   "cell_type": "code",
   "execution_count": 1,
   "metadata": {},
   "outputs": [],
   "source": [
    "%load_ext autoreload\n",
    "%autoreload 2"
   ]
  },
  {
   "cell_type": "code",
   "execution_count": 3,
   "metadata": {},
   "outputs": [],
   "source": [
    "import pandas as pd\n",
    "import time\n",
    "import urllib\n",
    "import re\n",
    "\n",
    "from providers import ParariusProvider\n",
    "from utils import Entry"
   ]
  },
  {
   "cell_type": "code",
   "execution_count": 4,
   "metadata": {},
   "outputs": [],
   "source": [
    "urls = {\n",
    "  \"Funda\": \"https://www.funda.nl/zoeken/huur?selected_area=%5B%22den-haag%22%5D&price=%22-1750%22\",\n",
    "  \"Pararius\": \"/apartments/den-haag/0-1750/2-bedrooms\"\n",
    "}\n",
    "\n",
    "tgtbt_area_price_threshold = 13"
   ]
  },
  {
   "cell_type": "code",
   "execution_count": 16,
   "metadata": {},
   "outputs": [
    {
     "name": "stderr",
     "output_type": "stream",
     "text": [
      "100%|██████████| 3/3 [00:00<00:00,  3.96it/s]\n",
      "100%|██████████| 3/3 [00:00<00:00, 65.07it/s]\n"
     ]
    }
   ],
   "source": [
    "pp = ParariusProvider(urls['Pararius'])\n",
    "pp.query_entries()"
   ]
  },
  {
   "cell_type": "code",
   "execution_count": 19,
   "metadata": {},
   "outputs": [
    {
     "data": {
      "text/plain": [
       "[]"
      ]
     },
     "execution_count": 19,
     "metadata": {},
     "output_type": "execute_result"
    }
   ],
   "source": [
    "pp.entries"
   ]
  },
  {
   "cell_type": "code",
   "execution_count": 18,
   "metadata": {},
   "outputs": [
    {
     "name": "stderr",
     "output_type": "stream",
     "text": [
      "0it [00:00, ?it/s]\n"
     ]
    },
    {
     "ename": "ValueError",
     "evalue": "max_workers must be greater than 0",
     "output_type": "error",
     "traceback": [
      "\u001b[1;31m---------------------------------------------------------------------------\u001b[0m",
      "\u001b[1;31mValueError\u001b[0m                                Traceback (most recent call last)",
      "\u001b[1;32md:\\WebScraper\\Analysis.ipynb Cell 6\u001b[0m line \u001b[0;36m1\n\u001b[1;32m----> <a href='vscode-notebook-cell:/d%3A/WebScraper/Analysis.ipynb#X15sZmlsZQ%3D%3D?line=0'>1</a>\u001b[0m pp\u001b[39m.\u001b[39;49mget_detailed_results()\n",
      "File \u001b[1;32md:\\WebScraper\\providers\\pararius_provider.py:54\u001b[0m, in \u001b[0;36mParariusProvider.get_detailed_results\u001b[1;34m(self)\u001b[0m\n\u001b[0;32m     53\u001b[0m \u001b[39mdef\u001b[39;00m \u001b[39mget_detailed_results\u001b[39m(\u001b[39mself\u001b[39m):\n\u001b[1;32m---> 54\u001b[0m   responses \u001b[39m=\u001b[39m mt_download([entry\u001b[39m.\u001b[39;49mlink \u001b[39mfor\u001b[39;49;00m entry \u001b[39min\u001b[39;49;00m \u001b[39mself\u001b[39;49m\u001b[39m.\u001b[39;49mentries])\n\u001b[0;32m     55\u001b[0m   \u001b[39mfor\u001b[39;00m response \u001b[39min\u001b[39;00m responses:\n\u001b[0;32m     56\u001b[0m     soup \u001b[39m=\u001b[39m BeautifulSoup(response\u001b[39m.\u001b[39mcontent, \u001b[39m'\u001b[39m\u001b[39mhtml.parser\u001b[39m\u001b[39m'\u001b[39m)\n",
      "File \u001b[1;32md:\\WebScraper\\utils\\downloader.py:16\u001b[0m, in \u001b[0;36mmt_download\u001b[1;34m(urls)\u001b[0m\n\u001b[0;32m     13\u001b[0m results \u001b[39m=\u001b[39m []\n\u001b[0;32m     15\u001b[0m \u001b[39mwith\u001b[39;00m tqdm(total\u001b[39m=\u001b[39m\u001b[39mlen\u001b[39m(urls)) \u001b[39mas\u001b[39;00m pbar:\n\u001b[1;32m---> 16\u001b[0m   \u001b[39mwith\u001b[39;00m ThreadPoolExecutor(max_workers\u001b[39m=\u001b[39;49m\u001b[39mlen\u001b[39;49m(urls)) \u001b[39mas\u001b[39;00m ex:\n\u001b[0;32m     17\u001b[0m     futures \u001b[39m=\u001b[39m [ex\u001b[39m.\u001b[39msubmit(download_file, url) \u001b[39mfor\u001b[39;00m url \u001b[39min\u001b[39;00m urls]\n\u001b[0;32m     18\u001b[0m     \u001b[39mfor\u001b[39;00m future \u001b[39min\u001b[39;00m as_completed(futures):\n",
      "File \u001b[1;32m~\\AppData\\Local\\Programs\\Python\\Python310\\lib\\concurrent\\futures\\thread.py:144\u001b[0m, in \u001b[0;36mThreadPoolExecutor.__init__\u001b[1;34m(self, max_workers, thread_name_prefix, initializer, initargs)\u001b[0m\n\u001b[0;32m    142\u001b[0m     max_workers \u001b[39m=\u001b[39m \u001b[39mmin\u001b[39m(\u001b[39m32\u001b[39m, (os\u001b[39m.\u001b[39mcpu_count() \u001b[39mor\u001b[39;00m \u001b[39m1\u001b[39m) \u001b[39m+\u001b[39m \u001b[39m4\u001b[39m)\n\u001b[0;32m    143\u001b[0m \u001b[39mif\u001b[39;00m max_workers \u001b[39m<\u001b[39m\u001b[39m=\u001b[39m \u001b[39m0\u001b[39m:\n\u001b[1;32m--> 144\u001b[0m     \u001b[39mraise\u001b[39;00m \u001b[39mValueError\u001b[39;00m(\u001b[39m\"\u001b[39m\u001b[39mmax_workers must be greater than 0\u001b[39m\u001b[39m\"\u001b[39m)\n\u001b[0;32m    146\u001b[0m \u001b[39mif\u001b[39;00m initializer \u001b[39mis\u001b[39;00m \u001b[39mnot\u001b[39;00m \u001b[39mNone\u001b[39;00m \u001b[39mand\u001b[39;00m \u001b[39mnot\u001b[39;00m \u001b[39mcallable\u001b[39m(initializer):\n\u001b[0;32m    147\u001b[0m     \u001b[39mraise\u001b[39;00m \u001b[39mTypeError\u001b[39;00m(\u001b[39m\"\u001b[39m\u001b[39minitializer must be a callable\u001b[39m\u001b[39m\"\u001b[39m)\n",
      "\u001b[1;31mValueError\u001b[0m: max_workers must be greater than 0"
     ]
    }
   ],
   "source": [
    "pp.get_detailed_results()"
   ]
  },
  {
   "cell_type": "code",
   "execution_count": null,
   "metadata": {},
   "outputs": [
    {
     "name": "stderr",
     "output_type": "stream",
     "text": [
      "[autoreload of utils.entry failed: Traceback (most recent call last):\n",
      "  File \"d:\\WebScraper\\.env\\lib\\site-packages\\IPython\\extensions\\autoreload.py\", line 276, in check\n",
      "    superreload(m, reload, self.old_objects)\n",
      "  File \"d:\\WebScraper\\.env\\lib\\site-packages\\IPython\\extensions\\autoreload.py\", line 475, in superreload\n",
      "    module = reload(module)\n",
      "  File \"C:\\Users\\leona\\AppData\\Local\\Programs\\Python\\Python310\\lib\\importlib\\__init__.py\", line 169, in reload\n",
      "    _bootstrap._exec(spec, module)\n",
      "  File \"<frozen importlib._bootstrap>\", line 619, in _exec\n",
      "  File \"<frozen importlib._bootstrap_external>\", line 883, in exec_module\n",
      "  File \"<frozen importlib._bootstrap>\", line 241, in _call_with_frames_removed\n",
      "  File \"d:\\WebScraper\\utils\\entry.py\", line 6, in <module>\n",
      "    from .address import Address\n",
      "  File \"d:\\WebScraper\\utils\\address.py\", line 4, in <module>\n",
      "    class Address():\n",
      "  File \"d:\\WebScraper\\utils\\address.py\", line 11, in Address\n",
      "    def from_pararius_dict(addr_dict: dict) -> Address:\n",
      "NameError: name 'Address' is not defined\n",
      "]\n"
     ]
    },
    {
     "data": {
      "text/plain": [
       "Entry(title='House Miquelstraat', link='https://www.pararius.com/house-for-rent/den-haag/3a4ebefe/miquelstraat', location='2522 KM Den Haag (Laakkwartier-Oost)', price=1650, area=107, rooms=5, furnished='Part-furnished')"
      ]
     },
     "execution_count": 59,
     "metadata": {},
     "output_type": "execute_result"
    }
   ],
   "source": [
    "pp.entries[0]"
   ]
  },
  {
   "cell_type": "code",
   "execution_count": 61,
   "metadata": {},
   "outputs": [
    {
     "ename": "ImportError",
     "evalue": "cannot import name 'Address' from 'utils' (d:\\WebScraper\\utils\\__init__.py)",
     "output_type": "error",
     "traceback": [
      "\u001b[1;31m---------------------------------------------------------------------------\u001b[0m",
      "\u001b[1;31mImportError\u001b[0m                               Traceback (most recent call last)",
      "\u001b[1;32md:\\WebScraper\\Analysis.ipynb Cell 10\u001b[0m line \u001b[0;36m1\n\u001b[1;32m----> <a href='vscode-notebook-cell:/d%3A/WebScraper/Analysis.ipynb#X24sZmlsZQ%3D%3D?line=0'>1</a>\u001b[0m \u001b[39mfrom\u001b[39;00m \u001b[39mutils\u001b[39;00m \u001b[39mimport\u001b[39;00m Address\n",
      "\u001b[1;31mImportError\u001b[0m: cannot import name 'Address' from 'utils' (d:\\WebScraper\\utils\\__init__.py)"
     ]
    }
   ],
   "source": [
    "from utils import Address"
   ]
  },
  {
   "cell_type": "code",
   "execution_count": 9,
   "metadata": {},
   "outputs": [],
   "source": [
    "# Pararius\n",
    "\n",
    "\n",
    "response = requests.get(query)\n",
    "soup = BeautifulSoup(response.content, 'html.parser')"
   ]
  },
  {
   "cell_type": "code",
   "execution_count": 10,
   "metadata": {},
   "outputs": [
    {
     "name": "stdout",
     "output_type": "stream",
     "text": [
      "\n",
      "\n",
      "\n"
     ]
    },
    {
     "data": {
      "text/html": [
       "<div>\n",
       "<style scoped>\n",
       "    .dataframe tbody tr th:only-of-type {\n",
       "        vertical-align: middle;\n",
       "    }\n",
       "\n",
       "    .dataframe tbody tr th {\n",
       "        vertical-align: top;\n",
       "    }\n",
       "\n",
       "    .dataframe thead th {\n",
       "        text-align: right;\n",
       "    }\n",
       "</style>\n",
       "<table border=\"1\" class=\"dataframe\">\n",
       "  <thead>\n",
       "    <tr style=\"text-align: right;\">\n",
       "      <th></th>\n",
       "      <th>title</th>\n",
       "      <th>link</th>\n",
       "      <th>location</th>\n",
       "      <th>price</th>\n",
       "      <th>area</th>\n",
       "      <th>rooms</th>\n",
       "      <th>furnished</th>\n",
       "    </tr>\n",
       "  </thead>\n",
       "  <tbody>\n",
       "    <tr>\n",
       "      <th>0</th>\n",
       "      <td>Flat Cornelis van der Lijnstraat 209</td>\n",
       "      <td>https://www.pararius.com/apartment-for-rent/de...</td>\n",
       "      <td>2593 NH Den Haag (Bezuidenhout-Oost)</td>\n",
       "      <td>1650</td>\n",
       "      <td>90</td>\n",
       "      <td>4</td>\n",
       "      <td>Part-furnished or furnished</td>\n",
       "    </tr>\n",
       "    <tr>\n",
       "      <th>1</th>\n",
       "      <td>Flat Frederik Hendriklaan</td>\n",
       "      <td>https://www.pararius.com/apartment-for-rent/de...</td>\n",
       "      <td>2582 BN Den Haag (Statenkwartier)</td>\n",
       "      <td>1500</td>\n",
       "      <td>75</td>\n",
       "      <td>3</td>\n",
       "      <td>None</td>\n",
       "    </tr>\n",
       "    <tr>\n",
       "      <th>2</th>\n",
       "      <td>Flat Lavendelstraat</td>\n",
       "      <td>https://www.pararius.com/apartment-for-rent/de...</td>\n",
       "      <td>2563 PP Den Haag (Heesterbuurt)</td>\n",
       "      <td>950</td>\n",
       "      <td>69</td>\n",
       "      <td>3</td>\n",
       "      <td>Part-furnished</td>\n",
       "    </tr>\n",
       "    <tr>\n",
       "      <th>3</th>\n",
       "      <td>Flat Da Costastraat</td>\n",
       "      <td>https://www.pararius.com/apartment-for-rent/de...</td>\n",
       "      <td>2513 RR Den Haag (Zeeheldenkwartier)</td>\n",
       "      <td>1750</td>\n",
       "      <td>118</td>\n",
       "      <td>5</td>\n",
       "      <td>Part-furnished</td>\n",
       "    </tr>\n",
       "    <tr>\n",
       "      <th>4</th>\n",
       "      <td>Flat Ruimzicht</td>\n",
       "      <td>https://www.pararius.com/apartment-for-rent/de...</td>\n",
       "      <td>2543 RP Den Haag (Zijden, Steden en Zichten)</td>\n",
       "      <td>425</td>\n",
       "      <td>59</td>\n",
       "      <td>3</td>\n",
       "      <td>Shell</td>\n",
       "    </tr>\n",
       "  </tbody>\n",
       "</table>\n",
       "</div>"
      ],
      "text/plain": [
       "                                  title  \\\n",
       "0  Flat Cornelis van der Lijnstraat 209   \n",
       "1             Flat Frederik Hendriklaan   \n",
       "2                   Flat Lavendelstraat   \n",
       "3                   Flat Da Costastraat   \n",
       "4                        Flat Ruimzicht   \n",
       "\n",
       "                                                link  \\\n",
       "0  https://www.pararius.com/apartment-for-rent/de...   \n",
       "1  https://www.pararius.com/apartment-for-rent/de...   \n",
       "2  https://www.pararius.com/apartment-for-rent/de...   \n",
       "3  https://www.pararius.com/apartment-for-rent/de...   \n",
       "4  https://www.pararius.com/apartment-for-rent/de...   \n",
       "\n",
       "                                       location  price  area  rooms  \\\n",
       "0          2593 NH Den Haag (Bezuidenhout-Oost)   1650    90      4   \n",
       "1             2582 BN Den Haag (Statenkwartier)   1500    75      3   \n",
       "2               2563 PP Den Haag (Heesterbuurt)    950    69      3   \n",
       "3          2513 RR Den Haag (Zeeheldenkwartier)   1750   118      5   \n",
       "4  2543 RP Den Haag (Zijden, Steden en Zichten)    425    59      3   \n",
       "\n",
       "                     furnished  \n",
       "0  Part-furnished or furnished  \n",
       "1                         None  \n",
       "2               Part-furnished  \n",
       "3               Part-furnished  \n",
       "4                        Shell  "
      ]
     },
     "execution_count": 10,
     "metadata": {},
     "output_type": "execute_result"
    }
   ],
   "source": [
    "res = []\n",
    "res += get_pararius_results()\n",
    "\n",
    "df = pd.DataFrame(res, columns=['title', 'link', 'location', 'price', 'area', 'rooms', 'furnished'])\n",
    "df.head()"
   ]
  },
  {
   "cell_type": "code",
   "execution_count": 11,
   "metadata": {},
   "outputs": [
    {
     "data": {
      "text/html": [
       "<div>\n",
       "<style scoped>\n",
       "    .dataframe tbody tr th:only-of-type {\n",
       "        vertical-align: middle;\n",
       "    }\n",
       "\n",
       "    .dataframe tbody tr th {\n",
       "        vertical-align: top;\n",
       "    }\n",
       "\n",
       "    .dataframe thead th {\n",
       "        text-align: right;\n",
       "    }\n",
       "</style>\n",
       "<table border=\"1\" class=\"dataframe\">\n",
       "  <thead>\n",
       "    <tr style=\"text-align: right;\">\n",
       "      <th></th>\n",
       "      <th>title</th>\n",
       "      <th>link</th>\n",
       "      <th>location</th>\n",
       "      <th>price</th>\n",
       "      <th>area</th>\n",
       "      <th>rooms</th>\n",
       "      <th>furnished</th>\n",
       "      <th>Price per m2</th>\n",
       "      <th>Price per room</th>\n",
       "    </tr>\n",
       "  </thead>\n",
       "  <tbody>\n",
       "    <tr>\n",
       "      <th>0</th>\n",
       "      <td>Flat Cornelis van der Lijnstraat 209</td>\n",
       "      <td>https://www.pararius.com/apartment-for-rent/de...</td>\n",
       "      <td>2593 NH Den Haag (Bezuidenhout-Oost)</td>\n",
       "      <td>1650</td>\n",
       "      <td>90</td>\n",
       "      <td>4</td>\n",
       "      <td>Part-furnished or furnished</td>\n",
       "      <td>18.333333</td>\n",
       "      <td>412.500000</td>\n",
       "    </tr>\n",
       "    <tr>\n",
       "      <th>1</th>\n",
       "      <td>Flat Frederik Hendriklaan</td>\n",
       "      <td>https://www.pararius.com/apartment-for-rent/de...</td>\n",
       "      <td>2582 BN Den Haag (Statenkwartier)</td>\n",
       "      <td>1500</td>\n",
       "      <td>75</td>\n",
       "      <td>3</td>\n",
       "      <td>None</td>\n",
       "      <td>20.000000</td>\n",
       "      <td>500.000000</td>\n",
       "    </tr>\n",
       "    <tr>\n",
       "      <th>2</th>\n",
       "      <td>Flat Lavendelstraat</td>\n",
       "      <td>https://www.pararius.com/apartment-for-rent/de...</td>\n",
       "      <td>2563 PP Den Haag (Heesterbuurt)</td>\n",
       "      <td>950</td>\n",
       "      <td>69</td>\n",
       "      <td>3</td>\n",
       "      <td>Part-furnished</td>\n",
       "      <td>13.768116</td>\n",
       "      <td>316.666667</td>\n",
       "    </tr>\n",
       "    <tr>\n",
       "      <th>3</th>\n",
       "      <td>Flat Da Costastraat</td>\n",
       "      <td>https://www.pararius.com/apartment-for-rent/de...</td>\n",
       "      <td>2513 RR Den Haag (Zeeheldenkwartier)</td>\n",
       "      <td>1750</td>\n",
       "      <td>118</td>\n",
       "      <td>5</td>\n",
       "      <td>Part-furnished</td>\n",
       "      <td>14.830508</td>\n",
       "      <td>350.000000</td>\n",
       "    </tr>\n",
       "    <tr>\n",
       "      <th>4</th>\n",
       "      <td>Flat Ruimzicht</td>\n",
       "      <td>https://www.pararius.com/apartment-for-rent/de...</td>\n",
       "      <td>2543 RP Den Haag (Zijden, Steden en Zichten)</td>\n",
       "      <td>425</td>\n",
       "      <td>59</td>\n",
       "      <td>3</td>\n",
       "      <td>Shell</td>\n",
       "      <td>7.203390</td>\n",
       "      <td>141.666667</td>\n",
       "    </tr>\n",
       "    <tr>\n",
       "      <th>...</th>\n",
       "      <td>...</td>\n",
       "      <td>...</td>\n",
       "      <td>...</td>\n",
       "      <td>...</td>\n",
       "      <td>...</td>\n",
       "      <td>...</td>\n",
       "      <td>...</td>\n",
       "      <td>...</td>\n",
       "      <td>...</td>\n",
       "    </tr>\n",
       "    <tr>\n",
       "      <th>67</th>\n",
       "      <td>Flat Stadhoudersplantsoen 156</td>\n",
       "      <td>https://www.pararius.com/apartment-for-rent/de...</td>\n",
       "      <td>2517 SJ Den Haag (Stadhoudersplantsoen)</td>\n",
       "      <td>1550</td>\n",
       "      <td>79</td>\n",
       "      <td>4</td>\n",
       "      <td>Part-furnished</td>\n",
       "      <td>19.620253</td>\n",
       "      <td>387.500000</td>\n",
       "    </tr>\n",
       "    <tr>\n",
       "      <th>68</th>\n",
       "      <td>Flat Mallemolen 19 B</td>\n",
       "      <td>https://www.pararius.com/apartment-for-rent/de...</td>\n",
       "      <td>2585 XG Den Haag (Willemspark)</td>\n",
       "      <td>1495</td>\n",
       "      <td>71</td>\n",
       "      <td>3</td>\n",
       "      <td>None</td>\n",
       "      <td>21.056338</td>\n",
       "      <td>498.333333</td>\n",
       "    </tr>\n",
       "    <tr>\n",
       "      <th>69</th>\n",
       "      <td>Flat Vrouw Avenweg 12 C</td>\n",
       "      <td>https://www.pararius.com/apartment-for-rent/de...</td>\n",
       "      <td>2493 WM Den Haag (De Lanen)</td>\n",
       "      <td>1500</td>\n",
       "      <td>77</td>\n",
       "      <td>3</td>\n",
       "      <td>Part-furnished</td>\n",
       "      <td>19.480519</td>\n",
       "      <td>500.000000</td>\n",
       "    </tr>\n",
       "    <tr>\n",
       "      <th>70</th>\n",
       "      <td>Flat 3e Eeldepad 40</td>\n",
       "      <td>https://www.pararius.com/apartment-for-rent/de...</td>\n",
       "      <td>2541 JJ Den Haag (Morgenstond-Zuid)</td>\n",
       "      <td>1350</td>\n",
       "      <td>59</td>\n",
       "      <td>3</td>\n",
       "      <td>None</td>\n",
       "      <td>22.881356</td>\n",
       "      <td>450.000000</td>\n",
       "    </tr>\n",
       "    <tr>\n",
       "      <th>71</th>\n",
       "      <td>Flat Weissenbruchstraat</td>\n",
       "      <td>https://www.pararius.com/apartment-for-rent/de...</td>\n",
       "      <td>2596 GC Den Haag (Nassaubuurt)</td>\n",
       "      <td>1395</td>\n",
       "      <td>65</td>\n",
       "      <td>3</td>\n",
       "      <td>Furnished</td>\n",
       "      <td>21.461538</td>\n",
       "      <td>465.000000</td>\n",
       "    </tr>\n",
       "  </tbody>\n",
       "</table>\n",
       "<p>72 rows × 9 columns</p>\n",
       "</div>"
      ],
      "text/plain": [
       "                                   title  \\\n",
       "0   Flat Cornelis van der Lijnstraat 209   \n",
       "1              Flat Frederik Hendriklaan   \n",
       "2                    Flat Lavendelstraat   \n",
       "3                    Flat Da Costastraat   \n",
       "4                         Flat Ruimzicht   \n",
       "..                                   ...   \n",
       "67         Flat Stadhoudersplantsoen 156   \n",
       "68                  Flat Mallemolen 19 B   \n",
       "69               Flat Vrouw Avenweg 12 C   \n",
       "70                   Flat 3e Eeldepad 40   \n",
       "71               Flat Weissenbruchstraat   \n",
       "\n",
       "                                                 link  \\\n",
       "0   https://www.pararius.com/apartment-for-rent/de...   \n",
       "1   https://www.pararius.com/apartment-for-rent/de...   \n",
       "2   https://www.pararius.com/apartment-for-rent/de...   \n",
       "3   https://www.pararius.com/apartment-for-rent/de...   \n",
       "4   https://www.pararius.com/apartment-for-rent/de...   \n",
       "..                                                ...   \n",
       "67  https://www.pararius.com/apartment-for-rent/de...   \n",
       "68  https://www.pararius.com/apartment-for-rent/de...   \n",
       "69  https://www.pararius.com/apartment-for-rent/de...   \n",
       "70  https://www.pararius.com/apartment-for-rent/de...   \n",
       "71  https://www.pararius.com/apartment-for-rent/de...   \n",
       "\n",
       "                                        location  price  area  rooms  \\\n",
       "0           2593 NH Den Haag (Bezuidenhout-Oost)   1650    90      4   \n",
       "1              2582 BN Den Haag (Statenkwartier)   1500    75      3   \n",
       "2                2563 PP Den Haag (Heesterbuurt)    950    69      3   \n",
       "3           2513 RR Den Haag (Zeeheldenkwartier)   1750   118      5   \n",
       "4   2543 RP Den Haag (Zijden, Steden en Zichten)    425    59      3   \n",
       "..                                           ...    ...   ...    ...   \n",
       "67       2517 SJ Den Haag (Stadhoudersplantsoen)   1550    79      4   \n",
       "68                2585 XG Den Haag (Willemspark)   1495    71      3   \n",
       "69                   2493 WM Den Haag (De Lanen)   1500    77      3   \n",
       "70           2541 JJ Den Haag (Morgenstond-Zuid)   1350    59      3   \n",
       "71                2596 GC Den Haag (Nassaubuurt)   1395    65      3   \n",
       "\n",
       "                      furnished  Price per m2  Price per room  \n",
       "0   Part-furnished or furnished     18.333333      412.500000  \n",
       "1                          None     20.000000      500.000000  \n",
       "2                Part-furnished     13.768116      316.666667  \n",
       "3                Part-furnished     14.830508      350.000000  \n",
       "4                         Shell      7.203390      141.666667  \n",
       "..                          ...           ...             ...  \n",
       "67               Part-furnished     19.620253      387.500000  \n",
       "68                         None     21.056338      498.333333  \n",
       "69               Part-furnished     19.480519      500.000000  \n",
       "70                         None     22.881356      450.000000  \n",
       "71                    Furnished     21.461538      465.000000  \n",
       "\n",
       "[72 rows x 9 columns]"
      ]
     },
     "execution_count": 11,
     "metadata": {},
     "output_type": "execute_result"
    }
   ],
   "source": [
    "df['Price per m2'] = df['price'] / df['area']\n",
    "df['Price per room'] = df['price'] / df['rooms']\n",
    "df"
   ]
  },
  {
   "cell_type": "code",
   "execution_count": 23,
   "metadata": {},
   "outputs": [
    {
     "data": {
      "text/html": [
       "<div>\n",
       "<style scoped>\n",
       "    .dataframe tbody tr th:only-of-type {\n",
       "        vertical-align: middle;\n",
       "    }\n",
       "\n",
       "    .dataframe tbody tr th {\n",
       "        vertical-align: top;\n",
       "    }\n",
       "\n",
       "    .dataframe thead th {\n",
       "        text-align: right;\n",
       "    }\n",
       "</style>\n",
       "<table border=\"1\" class=\"dataframe\">\n",
       "  <thead>\n",
       "    <tr style=\"text-align: right;\">\n",
       "      <th></th>\n",
       "      <th>title</th>\n",
       "      <th>link</th>\n",
       "      <th>location</th>\n",
       "      <th>price</th>\n",
       "      <th>area</th>\n",
       "      <th>rooms</th>\n",
       "      <th>furnished</th>\n",
       "      <th>Price per m2</th>\n",
       "      <th>Price per room</th>\n",
       "    </tr>\n",
       "  </thead>\n",
       "  <tbody>\n",
       "    <tr>\n",
       "      <th>4</th>\n",
       "      <td>Flat Ruimzicht</td>\n",
       "      <td>https://www.pararius.com/apartment-for-rent/de...</td>\n",
       "      <td>2543 RP Den Haag (Zijden, Steden en Zichten)</td>\n",
       "      <td>425</td>\n",
       "      <td>59</td>\n",
       "      <td>3</td>\n",
       "      <td>Shell</td>\n",
       "      <td>7.20339</td>\n",
       "      <td>141.666667</td>\n",
       "    </tr>\n",
       "    <tr>\n",
       "      <th>56</th>\n",
       "      <td>Flat Stalpertstraat 63</td>\n",
       "      <td>https://www.pararius.com/apartment-for-rent/de...</td>\n",
       "      <td>2597 RR Den Haag (Duinzigt)</td>\n",
       "      <td>1575</td>\n",
       "      <td>140</td>\n",
       "      <td>6</td>\n",
       "      <td>None</td>\n",
       "      <td>11.25000</td>\n",
       "      <td>262.500000</td>\n",
       "    </tr>\n",
       "  </tbody>\n",
       "</table>\n",
       "</div>"
      ],
      "text/plain": [
       "                     title                                               link  \\\n",
       "4           Flat Ruimzicht  https://www.pararius.com/apartment-for-rent/de...   \n",
       "56  Flat Stalpertstraat 63  https://www.pararius.com/apartment-for-rent/de...   \n",
       "\n",
       "                                        location  price  area  rooms  \\\n",
       "4   2543 RP Den Haag (Zijden, Steden en Zichten)    425    59      3   \n",
       "56                   2597 RR Den Haag (Duinzigt)   1575   140      6   \n",
       "\n",
       "   furnished  Price per m2  Price per room  \n",
       "4      Shell       7.20339      141.666667  \n",
       "56      None      11.25000      262.500000  "
      ]
     },
     "execution_count": 23,
     "metadata": {},
     "output_type": "execute_result"
    }
   ],
   "source": [
    "# Properdies which are too good to be true\n",
    "\n",
    "df[df['Price per m2'] < tgtbt_area_price_threshold]"
   ]
  }
 ],
 "metadata": {
  "kernelspec": {
   "display_name": ".env",
   "language": "python",
   "name": "python3"
  },
  "language_info": {
   "codemirror_mode": {
    "name": "ipython",
    "version": 3
   },
   "file_extension": ".py",
   "mimetype": "text/x-python",
   "name": "python",
   "nbconvert_exporter": "python",
   "pygments_lexer": "ipython3",
   "version": "3.10.11"
  }
 },
 "nbformat": 4,
 "nbformat_minor": 2
}
